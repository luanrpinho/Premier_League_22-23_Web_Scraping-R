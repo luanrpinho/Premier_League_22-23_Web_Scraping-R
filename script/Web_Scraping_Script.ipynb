{
  "nbformat": 4,
  "nbformat_minor": 0,
  "metadata": {
    "colab": {
      "provenance": []
    },
    "kernelspec": {
      "name": "ir",
      "display_name": "R"
    },
    "language_info": {
      "name": "R"
    }
  },
  "cells": [
    {
      "cell_type": "code",
      "source": [
        "#Instalando os pacotes necessários\n",
        "install.packages(\"rvest\")\n",
        "install.packages(\"tidyverse\")\n",
        "install.packages(\"writexl\")"
      ],
      "metadata": {
        "id": "ZPK3gdL7XFmi"
      },
      "execution_count": null,
      "outputs": []
    },
    {
      "cell_type": "code",
      "source": [
        "#Carregando as bibliotecas\n",
        "library(rvest)\n",
        "library(tidyverse)\n",
        "library(dplyr)\n",
        "library(writexl)"
      ],
      "metadata": {
        "id": "Ep8x1_hYXPq0"
      },
      "execution_count": null,
      "outputs": []
    },
    {
      "cell_type": "code",
      "source": [
        "#Escolhendo o site que será analisado\n",
        "site <- \"https://fbref.com/pt/comps/9/2022-2023/2022-2023-Premier-League-estatisticas\""
      ],
      "metadata": {
        "id": "NeD7Fix-XS4b"
      },
      "execution_count": null,
      "outputs": []
    },
    {
      "cell_type": "code",
      "source": [
        "#Lendo a página no formato HTML\n",
        "pagina <- read_html(site)"
      ],
      "metadata": {
        "id": "LfsLrw5vbBH6"
      },
      "execution_count": null,
      "outputs": []
    },
    {
      "cell_type": "code",
      "source": [
        "#Extraindo todas as tabelas da página\n",
        "tabelas <- pagina %>%\n",
        "  html_nodes(\"table\") %>%\n",
        "  html_table()"
      ],
      "metadata": {
        "id": "1bGa2OXMXSuT"
      },
      "execution_count": null,
      "outputs": []
    },
    {
      "cell_type": "code",
      "source": [
        "#Visualizando todas as tabelas\n",
        "View(tabelas)"
      ],
      "metadata": {
        "id": "pgeFjE8abHYS"
      },
      "execution_count": null,
      "outputs": []
    },
    {
      "cell_type": "code",
      "source": [
        "#Extraindo as tabelas a serem usadas\n",
        "tabela1 <- (tabelas[[1]])\n",
        "tabela2 <- (tabelas[[3]])"
      ],
      "metadata": {
        "id": "SVoZ6OqnpxI0"
      },
      "execution_count": null,
      "outputs": []
    },
    {
      "cell_type": "code",
      "source": [
        "#Visualizando as tabelas selecionadas\n",
        "View(tabela1)\n",
        "View(tabela2)"
      ],
      "metadata": {
        "id": "eiKDXg3Ep7_u"
      },
      "execution_count": null,
      "outputs": []
    },
    {
      "cell_type": "code",
      "source": [
        "#Excluindo o cabeçalho nulo e corrigindo os dados\n",
        "colnames(tabela2) <- tabela2[1, ]"
      ],
      "metadata": {
        "id": "bZs29cEz6Y_w"
      },
      "execution_count": null,
      "outputs": []
    },
    {
      "cell_type": "code",
      "source": [
        "#Novo cabeçalho\n",
        "tabela2 <-  tabela2[-1,]"
      ],
      "metadata": {
        "id": "_tDMIRs31PYM"
      },
      "execution_count": null,
      "outputs": []
    },
    {
      "cell_type": "code",
      "source": [
        "#Selecionando as colunas necessárias para análise\n",
        "tabela2 <- tabela2 %>%\n",
        "  select(Equipe, '# J',Idade, Posse, CrtsA, CrtV)"
      ],
      "metadata": {
        "id": "wSDMLbWB1Peb"
      },
      "execution_count": null,
      "outputs": []
    },
    {
      "cell_type": "code",
      "source": [
        "#Juntando as duas tabelas baseadas nos nomes das equipes\n",
        "premier <- inner_join(tabela1, tabela2, by = \"Equipe\")"
      ],
      "metadata": {
        "id": "3oX5f8ee91cE"
      },
      "execution_count": null,
      "outputs": []
    },
    {
      "cell_type": "code",
      "source": [
        "#Removendo colunas desnecessárias\n",
        "premier <- premier %>%\n",
        "  select(-c('Artilheiro da equipe', Goleiro))"
      ],
      "metadata": {
        "id": "SD8-Xbj191vl"
      },
      "execution_count": null,
      "outputs": []
    },
    {
      "cell_type": "code",
      "source": [
        "#Renomeando colunas\n",
        "premier <- premier %>%\n",
        "  rename(\n",
        "    PtsPPJ = `Pts/PPJ`,\n",
        "    xGD90 = `xGD/90`,\n",
        "    Publico = 'Público',\n",
        "    NrJogadores = '# J',\n",
        "    MediaIdade = Idade,\n",
        "    PosseBola = Posse,\n",
        "    CrtsV = CrtV,\n",
        "    )"
      ],
      "metadata": {
        "id": "gDdYV8uf0qpX"
      },
      "execution_count": null,
      "outputs": []
    },
    {
      "cell_type": "code",
      "source": [
        "#Convertendo colunas específicas para o formato numérico\n",
        "premier$`PtsPPJ` <- as.numeric(gsub(\",\",\".\",premier$`PtsPPJ`))\n",
        "premier$xG <- as.numeric(premier$xG)\n",
        "premier$xGA <- as.numeric(premier$xGA)\n",
        "premier$xGD <- as.numeric(premier$xGD)\n",
        "premier$`xGD90` <- as.numeric(gsub(\",\",\".\",premier$`xGD90`))\n",
        "premier$NrJogadores <- as.integer(premier$NrJogadores)\n",
        "premier$MediaIdade <- as.numeric(gsub(\",\",\".\",premier$MediaIdade))\n",
        "premier$PosseBola <- as.numeric(gsub(\",\",\".\",premier$PosseBola))\n",
        "premier$CrtsA <- as.integer(premier$CrtsA)\n",
        "premier$CrtsV <- as.integer(premier$CrtsV)"
      ],
      "metadata": {
        "id": "J59vIXYfk8hB"
      },
      "execution_count": null,
      "outputs": []
    },
    {
      "cell_type": "code",
      "source": [
        "#Organizando as colunas\n",
        "premier <- premier %>%\n",
        "  select(-Publico, -Notas, everything(), Publico, Notas)"
      ],
      "metadata": {
        "id": "ev1osasBKeAd"
      },
      "execution_count": null,
      "outputs": []
    },
    {
      "cell_type": "code",
      "source": [
        "#Vizualizando o resultado\n",
        "View(premier)"
      ],
      "metadata": {
        "id": "W50W_gDbKeG9"
      },
      "execution_count": null,
      "outputs": []
    },
    {
      "cell_type": "code",
      "source": [
        "#Nome do arquivo que será convertido para o formato xlsx\n",
        "premier_xlsx <- \"premier.xlsx\""
      ],
      "metadata": {
        "id": "OBjpsj6l3oQJ"
      },
      "execution_count": null,
      "outputs": []
    },
    {
      "cell_type": "code",
      "source": [
        "#Adicionando os dados ao arquivo xlsx\n",
        "write_xlsx(premier, premier_xlsx)"
      ],
      "metadata": {
        "id": "zgCUMxUF3oXH"
      },
      "execution_count": null,
      "outputs": []
    }
  ]
}
